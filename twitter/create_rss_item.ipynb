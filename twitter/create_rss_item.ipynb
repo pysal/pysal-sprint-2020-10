{
 "cells": [
  {
   "cell_type": "markdown",
   "metadata": {},
   "source": [
    "## Create xml file for RSS feed"
   ]
  },
  {
   "cell_type": "markdown",
   "metadata": {},
   "source": [
    "\"Jupyter notebook is basically a terminal of your regular python with magic commands added to it.\n",
    "\n",
    "I suggest you to use a config file that the notebook will read every time to achieve the i want to be able to change my defined variable 'myVariable'. part.\"\n",
    "\n",
    "https://stackoverflow.com/questions/40886358/creating-xml-from-jupyter-notebook-and-executing-function"
   ]
  },
  {
   "cell_type": "markdown",
   "metadata": {},
   "source": [
    "Use this cell to enter the title of the item"
   ]
  },
  {
   "cell_type": "code",
   "execution_count": null,
   "metadata": {},
   "outputs": [],
   "source": [
    "title = \"\""
   ]
  },
  {
   "cell_type": "markdown",
   "metadata": {},
   "source": [
    "Use this cell to enter the date of the item"
   ]
  },
  {
   "cell_type": "code",
   "execution_count": null,
   "metadata": {},
   "outputs": [],
   "source": [
    "date = \"\""
   ]
  },
  {
   "cell_type": "markdown",
   "metadata": {},
   "source": [
    "the link refers to the relevant url on pysal.org"
   ]
  },
  {
   "cell_type": "code",
   "execution_count": null,
   "metadata": {},
   "outputs": [],
   "source": [
    "link = \"\""
   ]
  },
  {
   "cell_type": "markdown",
   "metadata": {},
   "source": [
    "description will support links in HTML format (<a href=\"pysal.org\">example</a>)"
   ]
  },
  {
   "cell_type": "code",
   "execution_count": 1,
   "metadata": {
    "scrolled": true
   },
   "outputs": [
    {
     "ename": "SyntaxError",
     "evalue": "invalid syntax (<ipython-input-1-6fa851f0d2d4>, line 1)",
     "output_type": "error",
     "traceback": [
      "\u001b[1;36m  File \u001b[1;32m\"<ipython-input-1-6fa851f0d2d4>\"\u001b[1;36m, line \u001b[1;32m1\u001b[0m\n\u001b[1;33m    description =\u001b[0m\n\u001b[1;37m                  ^\u001b[0m\n\u001b[1;31mSyntaxError\u001b[0m\u001b[1;31m:\u001b[0m invalid syntax\n"
     ]
    }
   ],
   "source": [
    "description = \"\""
   ]
  },
  {
   "cell_type": "markdown",
   "metadata": {},
   "source": [
    "## final version should look like: "
   ]
  },
  {
   "cell_type": "raw",
   "metadata": {},
   "source": [
    "<?xml version=\"1.0\" encoding=\"utf-8\"?>\n",
    "<rss version=\"2.0\">\n",
    "    <channel>\n",
    "    <title> PySAL feed </title>\n",
    "    <link> pysal.org </link>\n",
    "    <description> pysal.org updates </description>\n",
    "    <language>en_us</language>\n",
    "    <image>\n",
    "        <title> pysal </title>\n",
    "        <link> pysal.org </link>\n",
    "        <url> pysallogolink.png </url>\n",
    "        <width> 150 </width>\n",
    "        <height> 150 </height>\n",
    "    </image>\n",
    "    <item>\n",
    "        <title> title </title>\n",
    "        <pubDate> date </pubDate>\n",
    "        <link> link </link>\n",
    "        <description> ![CDATA[description]] </description>\n",
    "        \n",
    "    </item>\n",
    "    </channel>\n",
    "</rss>"
   ]
  }
 ],
 "metadata": {
  "kernelspec": {
   "display_name": "Python 3",
   "language": "python",
   "name": "python3"
  },
  "language_info": {
   "codemirror_mode": {
    "name": "ipython",
    "version": 3
   },
   "file_extension": ".py",
   "mimetype": "text/x-python",
   "name": "python",
   "nbconvert_exporter": "python",
   "pygments_lexer": "ipython3",
   "version": "3.9.0"
  }
 },
 "nbformat": 4,
 "nbformat_minor": 4
}
