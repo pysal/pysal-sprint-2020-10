{
 "cells": [
  {
   "cell_type": "code",
   "execution_count": 66,
   "metadata": {},
   "outputs": [],
   "source": [
    "import xml.etree.ElementTree as ET"
   ]
  },
  {
   "cell_type": "code",
   "execution_count": 108,
   "metadata": {},
   "outputs": [],
   "source": [
    "tree = ET.parse('feed_item_example.xml')"
   ]
  },
  {
   "cell_type": "code",
   "execution_count": 109,
   "metadata": {},
   "outputs": [],
   "source": [
    "root = tree.getroot()"
   ]
  },
  {
   "cell_type": "code",
   "execution_count": 110,
   "metadata": {},
   "outputs": [
    {
     "data": {
      "text/plain": [
       "'rss'"
      ]
     },
     "execution_count": 110,
     "metadata": {},
     "output_type": "execute_result"
    }
   ],
   "source": [
    "root.tag"
   ]
  },
  {
   "cell_type": "code",
   "execution_count": 111,
   "metadata": {},
   "outputs": [
    {
     "data": {
      "text/plain": [
       "{'version': '2.0'}"
      ]
     },
     "execution_count": 111,
     "metadata": {},
     "output_type": "execute_result"
    }
   ],
   "source": [
    "root.attrib"
   ]
  },
  {
   "cell_type": "code",
   "execution_count": 112,
   "metadata": {},
   "outputs": [
    {
     "name": "stdout",
     "output_type": "stream",
     "text": [
      "channel {}\n",
      "image {}\n",
      "item {}\n"
     ]
    }
   ],
   "source": [
    "for child in root:\n",
    "    print(child.tag, child.attrib)"
   ]
  },
  {
   "cell_type": "markdown",
   "metadata": {},
   "source": [
    "We can identify the tags as children of the root 'rss'. indentation of the xml does not affect which tags are indentifiable this way."
   ]
  },
  {
   "cell_type": "code",
   "execution_count": 113,
   "metadata": {},
   "outputs": [
    {
     "name": "stdout",
     "output_type": "stream",
     "text": [
      "\n",
      "    \n",
      "\n",
      "        \n",
      " PySAL feed \n",
      "\n",
      "        \n",
      " pysal.org \n",
      "\n",
      "        \n",
      " pysal.org updates \n",
      "\n",
      "        \n",
      "en_us\n",
      "\n",
      "    \n",
      "\n",
      "    \n",
      "\n",
      "        \n",
      " pysal \n",
      "\n",
      "        \n",
      " pysal.org \n",
      "\n",
      "        \n",
      " pysallogolink.png \n",
      "\n",
      "        \n",
      " 150 \n",
      "\n",
      "        \n",
      " 150 \n",
      "\n",
      "    \n",
      "\n",
      "    \n",
      "\n",
      "        \n",
      " title \n",
      "\n",
      "        \n",
      " date \n",
      "\n",
      "        \n",
      " link \n",
      "\n",
      "        \n",
      " ![CDATA[description]] \n",
      "\n",
      "    \n",
      "\n",
      "\n"
     ]
    }
   ],
   "source": [
    "for item in root.itertext():\n",
    "    print(item)"
   ]
  },
  {
   "cell_type": "markdown",
   "metadata": {},
   "source": [
    "we can see the content of the tags in this way. next step is to be able to select only 'item' tags, and then iterate over them to read the content of children tags. ex:\n",
    "\n",
    "\n",
    "`<item>`<br>\n",
    ">`<title></title>`<br>\n",
    ">`<pubDate></pubDate>`<br>\n",
    ">`<link></link>`<br>\n",
    ">`<description></description>`<br>\n",
    "\n",
    "`</item>`"
   ]
  },
  {
   "cell_type": "code",
   "execution_count": null,
   "metadata": {},
   "outputs": [],
   "source": []
  }
 ],
 "metadata": {
  "kernelspec": {
   "display_name": "Python 3",
   "language": "python",
   "name": "python3"
  },
  "language_info": {
   "codemirror_mode": {
    "name": "ipython",
    "version": 3
   },
   "file_extension": ".py",
   "mimetype": "text/x-python",
   "name": "python",
   "nbconvert_exporter": "python",
   "pygments_lexer": "ipython3",
   "version": "3.9.0"
  }
 },
 "nbformat": 4,
 "nbformat_minor": 4
}
