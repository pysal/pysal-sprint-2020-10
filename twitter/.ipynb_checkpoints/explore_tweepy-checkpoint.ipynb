{
 "cells": [
  {
   "cell_type": "markdown",
   "metadata": {},
   "source": [
    "## gatekeeper"
   ]
  },
  {
   "cell_type": "code",
   "execution_count": 1,
   "metadata": {},
   "outputs": [],
   "source": [
    "import tweepy"
   ]
  },
  {
   "cell_type": "code",
   "execution_count": 3,
   "metadata": {},
   "outputs": [],
   "source": [
    "consumer_key = 'AtMYBiecs8S18UrwmCr5DrdAr'\n",
    "consumer_secret = '8MMPwBkTulSOwoYavYGav2tY6QVCmVS1vTzhos9yZOBrKLzBWi'"
   ]
  },
  {
   "cell_type": "code",
   "execution_count": 4,
   "metadata": {},
   "outputs": [],
   "source": [
    "access_token = '1194670380402610176-6U0mmWIE2Yw8R4w9hB1eHyCp7VHDn6'\n",
    "access_token_secret = '4nNSCrrpJKBk9DXwV55YSDbgOUtyJnCflhm2Xav77oY6U'"
   ]
  },
  {
   "cell_type": "markdown",
   "metadata": {},
   "source": [
    "setting access keys "
   ]
  },
  {
   "cell_type": "code",
   "execution_count": 5,
   "metadata": {},
   "outputs": [],
   "source": [
    "auth = tweepy.OAuthHandler(consumer_key, consumer_secret)"
   ]
  },
  {
   "cell_type": "code",
   "execution_count": 6,
   "metadata": {},
   "outputs": [],
   "source": [
    "auth.set_access_token(access_token, access_token_secret)"
   ]
  },
  {
   "cell_type": "markdown",
   "metadata": {},
   "source": [
    "setting variable for API with authentication as `api`"
   ]
  },
  {
   "cell_type": "code",
   "execution_count": 7,
   "metadata": {},
   "outputs": [],
   "source": [
    "api = tweepy.API(auth)"
   ]
  },
  {
   "cell_type": "code",
   "execution_count": 8,
   "metadata": {},
   "outputs": [
    {
     "name": "stdout",
     "output_type": "stream",
     "text": [
      "Firebot\n"
     ]
    }
   ],
   "source": [
    "print(api.me().name)\n",
    "# what's my name?"
   ]
  },
  {
   "cell_type": "markdown",
   "metadata": {},
   "source": [
    "## Sending tweet"
   ]
  },
  {
   "cell_type": "markdown",
   "metadata": {},
   "source": [
    "This is a basic way to use the API to update your status (send a tweet). We can concieve of a way to programatically build a tweet from a text file extracted from an RSS feed. "
   ]
  },
  {
   "cell_type": "code",
   "execution_count": 45,
   "metadata": {
    "scrolled": true
   },
   "outputs": [
    {
     "data": {
      "text/plain": [
       "Status(_api=<tweepy.api.API object at 0x000002229EE3CBB0>, _json={'created_at': 'Thu Oct 15 23:09:34 +0000 2020', 'id': 1316878914036264960, 'id_str': '1316878914036264960', 'text': 'Need a light?', 'truncated': False, 'entities': {'hashtags': [], 'symbols': [], 'user_mentions': [], 'urls': []}, 'source': '', 'in_reply_to_status_id': None, 'in_reply_to_status_id_str': None, 'in_reply_to_user_id': None, 'in_reply_to_user_id_str': None, 'in_reply_to_screen_name': None, 'user': {'id': 1194670380402610176, 'id_str': '1194670380402610176', 'name': 'Firebot', 'screen_name': 'CFirebot', 'location': 'Mar Sara ', 'description': '', 'url': None, 'entities': {'description': {'urls': []}}, 'protected': False, 'followers_count': 1, 'friends_count': 1, 'listed_count': 0, 'created_at': 'Wed Nov 13 17:36:39 +0000 2019', 'favourites_count': 0, 'utc_offset': None, 'time_zone': None, 'geo_enabled': False, 'verified': False, 'statuses_count': 1, 'lang': None, 'contributors_enabled': False, 'is_translator': False, 'is_translation_enabled': False, 'profile_background_color': 'F5F8FA', 'profile_background_image_url': None, 'profile_background_image_url_https': None, 'profile_background_tile': False, 'profile_image_url': 'http://pbs.twimg.com/profile_images/1316843644553322496/JFZVWzXV_normal.jpg', 'profile_image_url_https': 'https://pbs.twimg.com/profile_images/1316843644553322496/JFZVWzXV_normal.jpg', 'profile_link_color': '1DA1F2', 'profile_sidebar_border_color': 'C0DEED', 'profile_sidebar_fill_color': 'DDEEF6', 'profile_text_color': '333333', 'profile_use_background_image': True, 'has_extended_profile': True, 'default_profile': True, 'default_profile_image': False, 'following': False, 'follow_request_sent': False, 'notifications': False, 'translator_type': 'none'}, 'geo': None, 'coordinates': None, 'place': None, 'contributors': None, 'is_quote_status': False, 'retweet_count': 0, 'favorite_count': 0, 'favorited': False, 'retweeted': False, 'lang': 'en'}, created_at=datetime.datetime(2020, 10, 15, 23, 9, 34), id=1316878914036264960, id_str='1316878914036264960', text='Need a light?', truncated=False, entities={'hashtags': [], 'symbols': [], 'user_mentions': [], 'urls': []}, source='', source_url=None, in_reply_to_status_id=None, in_reply_to_status_id_str=None, in_reply_to_user_id=None, in_reply_to_user_id_str=None, in_reply_to_screen_name=None, author=User(_api=<tweepy.api.API object at 0x000002229EE3CBB0>, _json={'id': 1194670380402610176, 'id_str': '1194670380402610176', 'name': 'Firebot', 'screen_name': 'CFirebot', 'location': 'Mar Sara ', 'description': '', 'url': None, 'entities': {'description': {'urls': []}}, 'protected': False, 'followers_count': 1, 'friends_count': 1, 'listed_count': 0, 'created_at': 'Wed Nov 13 17:36:39 +0000 2019', 'favourites_count': 0, 'utc_offset': None, 'time_zone': None, 'geo_enabled': False, 'verified': False, 'statuses_count': 1, 'lang': None, 'contributors_enabled': False, 'is_translator': False, 'is_translation_enabled': False, 'profile_background_color': 'F5F8FA', 'profile_background_image_url': None, 'profile_background_image_url_https': None, 'profile_background_tile': False, 'profile_image_url': 'http://pbs.twimg.com/profile_images/1316843644553322496/JFZVWzXV_normal.jpg', 'profile_image_url_https': 'https://pbs.twimg.com/profile_images/1316843644553322496/JFZVWzXV_normal.jpg', 'profile_link_color': '1DA1F2', 'profile_sidebar_border_color': 'C0DEED', 'profile_sidebar_fill_color': 'DDEEF6', 'profile_text_color': '333333', 'profile_use_background_image': True, 'has_extended_profile': True, 'default_profile': True, 'default_profile_image': False, 'following': False, 'follow_request_sent': False, 'notifications': False, 'translator_type': 'none'}, id=1194670380402610176, id_str='1194670380402610176', name='Firebot', screen_name='CFirebot', location='Mar Sara ', description='', url=None, entities={'description': {'urls': []}}, protected=False, followers_count=1, friends_count=1, listed_count=0, created_at=datetime.datetime(2019, 11, 13, 17, 36, 39), favourites_count=0, utc_offset=None, time_zone=None, geo_enabled=False, verified=False, statuses_count=1, lang=None, contributors_enabled=False, is_translator=False, is_translation_enabled=False, profile_background_color='F5F8FA', profile_background_image_url=None, profile_background_image_url_https=None, profile_background_tile=False, profile_image_url='http://pbs.twimg.com/profile_images/1316843644553322496/JFZVWzXV_normal.jpg', profile_image_url_https='https://pbs.twimg.com/profile_images/1316843644553322496/JFZVWzXV_normal.jpg', profile_link_color='1DA1F2', profile_sidebar_border_color='C0DEED', profile_sidebar_fill_color='DDEEF6', profile_text_color='333333', profile_use_background_image=True, has_extended_profile=True, default_profile=True, default_profile_image=False, following=False, follow_request_sent=False, notifications=False, translator_type='none'), user=User(_api=<tweepy.api.API object at 0x000002229EE3CBB0>, _json={'id': 1194670380402610176, 'id_str': '1194670380402610176', 'name': 'Firebot', 'screen_name': 'CFirebot', 'location': 'Mar Sara ', 'description': '', 'url': None, 'entities': {'description': {'urls': []}}, 'protected': False, 'followers_count': 1, 'friends_count': 1, 'listed_count': 0, 'created_at': 'Wed Nov 13 17:36:39 +0000 2019', 'favourites_count': 0, 'utc_offset': None, 'time_zone': None, 'geo_enabled': False, 'verified': False, 'statuses_count': 1, 'lang': None, 'contributors_enabled': False, 'is_translator': False, 'is_translation_enabled': False, 'profile_background_color': 'F5F8FA', 'profile_background_image_url': None, 'profile_background_image_url_https': None, 'profile_background_tile': False, 'profile_image_url': 'http://pbs.twimg.com/profile_images/1316843644553322496/JFZVWzXV_normal.jpg', 'profile_image_url_https': 'https://pbs.twimg.com/profile_images/1316843644553322496/JFZVWzXV_normal.jpg', 'profile_link_color': '1DA1F2', 'profile_sidebar_border_color': 'C0DEED', 'profile_sidebar_fill_color': 'DDEEF6', 'profile_text_color': '333333', 'profile_use_background_image': True, 'has_extended_profile': True, 'default_profile': True, 'default_profile_image': False, 'following': False, 'follow_request_sent': False, 'notifications': False, 'translator_type': 'none'}, id=1194670380402610176, id_str='1194670380402610176', name='Firebot', screen_name='CFirebot', location='Mar Sara ', description='', url=None, entities={'description': {'urls': []}}, protected=False, followers_count=1, friends_count=1, listed_count=0, created_at=datetime.datetime(2019, 11, 13, 17, 36, 39), favourites_count=0, utc_offset=None, time_zone=None, geo_enabled=False, verified=False, statuses_count=1, lang=None, contributors_enabled=False, is_translator=False, is_translation_enabled=False, profile_background_color='F5F8FA', profile_background_image_url=None, profile_background_image_url_https=None, profile_background_tile=False, profile_image_url='http://pbs.twimg.com/profile_images/1316843644553322496/JFZVWzXV_normal.jpg', profile_image_url_https='https://pbs.twimg.com/profile_images/1316843644553322496/JFZVWzXV_normal.jpg', profile_link_color='1DA1F2', profile_sidebar_border_color='C0DEED', profile_sidebar_fill_color='DDEEF6', profile_text_color='333333', profile_use_background_image=True, has_extended_profile=True, default_profile=True, default_profile_image=False, following=False, follow_request_sent=False, notifications=False, translator_type='none'), geo=None, coordinates=None, place=None, contributors=None, is_quote_status=False, retweet_count=0, favorite_count=0, favorited=False, retweeted=False, lang='en')"
      ]
     },
     "execution_count": 45,
     "metadata": {},
     "output_type": "execute_result"
    }
   ],
   "source": [
    "api.update_status(status='Need a light?')"
   ]
  },
  {
   "cell_type": "code",
   "execution_count": 9,
   "metadata": {},
   "outputs": [
    {
     "name": "stdout",
     "output_type": "stream",
     "text": [
      "Need a light?\n"
     ]
    }
   ],
   "source": [
    "public_tweets = api.home_timeline()\n",
    "for tweet in public_tweets:\n",
    "    print(tweet.text)"
   ]
  },
  {
   "cell_type": "markdown",
   "metadata": {},
   "source": [
    "## Searching and parsing users and tweets"
   ]
  },
  {
   "cell_type": "code",
   "execution_count": 49,
   "metadata": {
    "scrolled": true
   },
   "outputs": [
    {
     "name": "stdout",
     "output_type": "stream",
     "text": [
      "[User(_api=<tweepy.api.API object at 0x000002229EE3CBB0>, _json={'id': 45966110, 'id_str': '45966110', 'name': 'Gengar', 'screen_name': 'fiendskrah', 'location': 'California', 'description': 'Everything is either a bit or an op.', 'url': None, 'entities': {'description': {'urls': []}}, 'protected': False, 'followers_count': 134, 'friends_count': 384, 'listed_count': 2, 'created_at': 'Tue Jun 09 22:39:54 +0000 2009', 'favourites_count': 12208, 'utc_offset': None, 'time_zone': None, 'geo_enabled': True, 'verified': False, 'statuses_count': 11630, 'lang': None, 'status': {'created_at': 'Thu Oct 15 08:33:27 +0000 2020', 'id': 1316658434528309248, 'id_str': '1316658434528309248', 'text': 'RT @IDoTheThinking: This is why California cities are always on verge of bankruptcy.\\n\\nYou got homeowners in my neighborhood paying as low a…', 'truncated': False, 'entities': {'hashtags': [], 'symbols': [], 'user_mentions': [{'screen_name': 'IDoTheThinking', 'name': '𝔇𝔞𝔯𝔯𝔢𝔩𝔩 🍫 𝔒𝔴𝔢𝔫𝔰', 'id': 1579809553, 'id_str': '1579809553', 'indices': [3, 18]}], 'urls': []}, 'source': '<a href=\"http://twitter.com/download/android\" rel=\"nofollow\">Twitter for Android</a>', 'in_reply_to_status_id': None, 'in_reply_to_status_id_str': None, 'in_reply_to_user_id': None, 'in_reply_to_user_id_str': None, 'in_reply_to_screen_name': None, 'geo': None, 'coordinates': None, 'place': None, 'contributors': None, 'retweeted_status': {'created_at': 'Wed Oct 14 00:19:09 +0000 2020', 'id': 1316171650925092864, 'id_str': '1316171650925092864', 'text': 'This is why California cities are always on verge of bankruptcy.\\n\\nYou got homeowners in my neighborhood paying as l… https://t.co/ZMdeQEt1Rq', 'truncated': True, 'entities': {'hashtags': [], 'symbols': [], 'user_mentions': [], 'urls': [{'url': 'https://t.co/ZMdeQEt1Rq', 'expanded_url': 'https://twitter.com/i/web/status/1316171650925092864', 'display_url': 'twitter.com/i/web/status/1…', 'indices': [117, 140]}]}, 'source': '<a href=\"https://mobile.twitter.com\" rel=\"nofollow\">Twitter Web App</a>', 'in_reply_to_status_id': None, 'in_reply_to_status_id_str': None, 'in_reply_to_user_id': None, 'in_reply_to_user_id_str': None, 'in_reply_to_screen_name': None, 'geo': None, 'coordinates': None, 'place': None, 'contributors': None, 'is_quote_status': False, 'retweet_count': 170, 'favorite_count': 721, 'favorited': False, 'retweeted': False, 'possibly_sensitive': False, 'lang': 'en'}, 'is_quote_status': False, 'retweet_count': 170, 'favorite_count': 0, 'favorited': False, 'retweeted': False, 'lang': 'en'}, 'contributors_enabled': False, 'is_translator': False, 'is_translation_enabled': False, 'profile_background_color': '022330', 'profile_background_image_url': 'http://abs.twimg.com/images/themes/theme15/bg.png', 'profile_background_image_url_https': 'https://abs.twimg.com/images/themes/theme15/bg.png', 'profile_background_tile': False, 'profile_image_url': 'http://pbs.twimg.com/profile_images/1224798883286405120/Or1fqmpL_normal.jpg', 'profile_image_url_https': 'https://pbs.twimg.com/profile_images/1224798883286405120/Or1fqmpL_normal.jpg', 'profile_banner_url': 'https://pbs.twimg.com/profile_banners/45966110/1600833164', 'profile_link_color': '0084B4', 'profile_sidebar_border_color': 'A8C7F7', 'profile_sidebar_fill_color': 'C0DFEC', 'profile_text_color': '333333', 'profile_use_background_image': True, 'has_extended_profile': False, 'default_profile': False, 'default_profile_image': False, 'following': True, 'follow_request_sent': False, 'notifications': False, 'translator_type': 'none'}, id=45966110, id_str='45966110', name='Gengar', screen_name='fiendskrah', location='California', description='Everything is either a bit or an op.', url=None, entities={'description': {'urls': []}}, protected=False, followers_count=134, friends_count=384, listed_count=2, created_at=datetime.datetime(2009, 6, 9, 22, 39, 54), favourites_count=12208, utc_offset=None, time_zone=None, geo_enabled=True, verified=False, statuses_count=11630, lang=None, status=Status(_api=<tweepy.api.API object at 0x000002229EE3CBB0>, _json={'created_at': 'Thu Oct 15 08:33:27 +0000 2020', 'id': 1316658434528309248, 'id_str': '1316658434528309248', 'text': 'RT @IDoTheThinking: This is why California cities are always on verge of bankruptcy.\\n\\nYou got homeowners in my neighborhood paying as low a…', 'truncated': False, 'entities': {'hashtags': [], 'symbols': [], 'user_mentions': [{'screen_name': 'IDoTheThinking', 'name': '𝔇𝔞𝔯𝔯𝔢𝔩𝔩 🍫 𝔒𝔴𝔢𝔫𝔰', 'id': 1579809553, 'id_str': '1579809553', 'indices': [3, 18]}], 'urls': []}, 'source': '<a href=\"http://twitter.com/download/android\" rel=\"nofollow\">Twitter for Android</a>', 'in_reply_to_status_id': None, 'in_reply_to_status_id_str': None, 'in_reply_to_user_id': None, 'in_reply_to_user_id_str': None, 'in_reply_to_screen_name': None, 'geo': None, 'coordinates': None, 'place': None, 'contributors': None, 'retweeted_status': {'created_at': 'Wed Oct 14 00:19:09 +0000 2020', 'id': 1316171650925092864, 'id_str': '1316171650925092864', 'text': 'This is why California cities are always on verge of bankruptcy.\\n\\nYou got homeowners in my neighborhood paying as l… https://t.co/ZMdeQEt1Rq', 'truncated': True, 'entities': {'hashtags': [], 'symbols': [], 'user_mentions': [], 'urls': [{'url': 'https://t.co/ZMdeQEt1Rq', 'expanded_url': 'https://twitter.com/i/web/status/1316171650925092864', 'display_url': 'twitter.com/i/web/status/1…', 'indices': [117, 140]}]}, 'source': '<a href=\"https://mobile.twitter.com\" rel=\"nofollow\">Twitter Web App</a>', 'in_reply_to_status_id': None, 'in_reply_to_status_id_str': None, 'in_reply_to_user_id': None, 'in_reply_to_user_id_str': None, 'in_reply_to_screen_name': None, 'geo': None, 'coordinates': None, 'place': None, 'contributors': None, 'is_quote_status': False, 'retweet_count': 170, 'favorite_count': 721, 'favorited': False, 'retweeted': False, 'possibly_sensitive': False, 'lang': 'en'}, 'is_quote_status': False, 'retweet_count': 170, 'favorite_count': 0, 'favorited': False, 'retweeted': False, 'lang': 'en'}, created_at=datetime.datetime(2020, 10, 15, 8, 33, 27), id=1316658434528309248, id_str='1316658434528309248', text='RT @IDoTheThinking: This is why California cities are always on verge of bankruptcy.\\n\\nYou got homeowners in my neighborhood paying as low a…', truncated=False, entities={'hashtags': [], 'symbols': [], 'user_mentions': [{'screen_name': 'IDoTheThinking', 'name': '𝔇𝔞𝔯𝔯𝔢𝔩𝔩 🍫 𝔒𝔴𝔢𝔫𝔰', 'id': 1579809553, 'id_str': '1579809553', 'indices': [3, 18]}], 'urls': []}, source='Twitter for Android', source_url='http://twitter.com/download/android', in_reply_to_status_id=None, in_reply_to_status_id_str=None, in_reply_to_user_id=None, in_reply_to_user_id_str=None, in_reply_to_screen_name=None, geo=None, coordinates=None, place=None, contributors=None, retweeted_status=Status(_api=<tweepy.api.API object at 0x000002229EE3CBB0>, _json={'created_at': 'Wed Oct 14 00:19:09 +0000 2020', 'id': 1316171650925092864, 'id_str': '1316171650925092864', 'text': 'This is why California cities are always on verge of bankruptcy.\\n\\nYou got homeowners in my neighborhood paying as l… https://t.co/ZMdeQEt1Rq', 'truncated': True, 'entities': {'hashtags': [], 'symbols': [], 'user_mentions': [], 'urls': [{'url': 'https://t.co/ZMdeQEt1Rq', 'expanded_url': 'https://twitter.com/i/web/status/1316171650925092864', 'display_url': 'twitter.com/i/web/status/1…', 'indices': [117, 140]}]}, 'source': '<a href=\"https://mobile.twitter.com\" rel=\"nofollow\">Twitter Web App</a>', 'in_reply_to_status_id': None, 'in_reply_to_status_id_str': None, 'in_reply_to_user_id': None, 'in_reply_to_user_id_str': None, 'in_reply_to_screen_name': None, 'geo': None, 'coordinates': None, 'place': None, 'contributors': None, 'is_quote_status': False, 'retweet_count': 170, 'favorite_count': 721, 'favorited': False, 'retweeted': False, 'possibly_sensitive': False, 'lang': 'en'}, created_at=datetime.datetime(2020, 10, 14, 0, 19, 9), id=1316171650925092864, id_str='1316171650925092864', text='This is why California cities are always on verge of bankruptcy.\\n\\nYou got homeowners in my neighborhood paying as l… https://t.co/ZMdeQEt1Rq', truncated=True, entities={'hashtags': [], 'symbols': [], 'user_mentions': [], 'urls': [{'url': 'https://t.co/ZMdeQEt1Rq', 'expanded_url': 'https://twitter.com/i/web/status/1316171650925092864', 'display_url': 'twitter.com/i/web/status/1…', 'indices': [117, 140]}]}, source='Twitter Web App', source_url='https://mobile.twitter.com', in_reply_to_status_id=None, in_reply_to_status_id_str=None, in_reply_to_user_id=None, in_reply_to_user_id_str=None, in_reply_to_screen_name=None, geo=None, coordinates=None, place=None, contributors=None, is_quote_status=False, retweet_count=170, favorite_count=721, favorited=False, retweeted=False, possibly_sensitive=False, lang='en'), is_quote_status=False, retweet_count=170, favorite_count=0, favorited=False, retweeted=False, lang='en'), contributors_enabled=False, is_translator=False, is_translation_enabled=False, profile_background_color='022330', profile_background_image_url='http://abs.twimg.com/images/themes/theme15/bg.png', profile_background_image_url_https='https://abs.twimg.com/images/themes/theme15/bg.png', profile_background_tile=False, profile_image_url='http://pbs.twimg.com/profile_images/1224798883286405120/Or1fqmpL_normal.jpg', profile_image_url_https='https://pbs.twimg.com/profile_images/1224798883286405120/Or1fqmpL_normal.jpg', profile_banner_url='https://pbs.twimg.com/profile_banners/45966110/1600833164', profile_link_color='0084B4', profile_sidebar_border_color='A8C7F7', profile_sidebar_fill_color='C0DFEC', profile_text_color='333333', profile_use_background_image=True, has_extended_profile=False, default_profile=False, default_profile_image=False, following=True, follow_request_sent=False, notifications=False, translator_type='none')]\n"
     ]
    }
   ],
   "source": [
    "print(api.search_users('fiendskrah'))\n",
    "# search for a user by name"
   ]
  },
  {
   "cell_type": "markdown",
   "metadata": {},
   "source": [
    "calling specific users or specific tweets will lend itself most to scripting use when translated into their `id`, which are just strings of numbers"
   ]
  },
  {
   "cell_type": "code",
   "execution_count": 31,
   "metadata": {},
   "outputs": [
    {
     "data": {
      "text/plain": [
       "User(_api=<tweepy.api.API object at 0x000002229EE3CBB0>, _json={'id': 45966110, 'id_str': '45966110', 'name': 'Gengar', 'screen_name': 'fiendskrah', 'location': 'California', 'profile_location': None, 'description': 'Everything is either a bit or an op.', 'url': None, 'entities': {'description': {'urls': []}}, 'protected': False, 'followers_count': 133, 'friends_count': 384, 'listed_count': 2, 'created_at': 'Tue Jun 09 22:39:54 +0000 2009', 'favourites_count': 12208, 'utc_offset': None, 'time_zone': None, 'geo_enabled': True, 'verified': False, 'statuses_count': 11630, 'lang': None, 'contributors_enabled': False, 'is_translator': False, 'is_translation_enabled': False, 'profile_background_color': '022330', 'profile_background_image_url': 'http://abs.twimg.com/images/themes/theme15/bg.png', 'profile_background_image_url_https': 'https://abs.twimg.com/images/themes/theme15/bg.png', 'profile_background_tile': False, 'profile_image_url': 'http://pbs.twimg.com/profile_images/1224798883286405120/Or1fqmpL_normal.jpg', 'profile_image_url_https': 'https://pbs.twimg.com/profile_images/1224798883286405120/Or1fqmpL_normal.jpg', 'profile_banner_url': 'https://pbs.twimg.com/profile_banners/45966110/1600833164', 'profile_link_color': '0084B4', 'profile_sidebar_border_color': 'A8C7F7', 'profile_sidebar_fill_color': 'C0DFEC', 'profile_text_color': '333333', 'profile_use_background_image': True, 'has_extended_profile': False, 'default_profile': False, 'default_profile_image': False, 'following': False, 'follow_request_sent': False, 'notifications': False, 'translator_type': 'none'}, id=45966110, id_str='45966110', name='Gengar', screen_name='fiendskrah', location='California', profile_location=None, description='Everything is either a bit or an op.', url=None, entities={'description': {'urls': []}}, protected=False, followers_count=133, friends_count=384, listed_count=2, created_at=datetime.datetime(2009, 6, 9, 22, 39, 54), favourites_count=12208, utc_offset=None, time_zone=None, geo_enabled=True, verified=False, statuses_count=11630, lang=None, contributors_enabled=False, is_translator=False, is_translation_enabled=False, profile_background_color='022330', profile_background_image_url='http://abs.twimg.com/images/themes/theme15/bg.png', profile_background_image_url_https='https://abs.twimg.com/images/themes/theme15/bg.png', profile_background_tile=False, profile_image_url='http://pbs.twimg.com/profile_images/1224798883286405120/Or1fqmpL_normal.jpg', profile_image_url_https='https://pbs.twimg.com/profile_images/1224798883286405120/Or1fqmpL_normal.jpg', profile_banner_url='https://pbs.twimg.com/profile_banners/45966110/1600833164', profile_link_color='0084B4', profile_sidebar_border_color='A8C7F7', profile_sidebar_fill_color='C0DFEC', profile_text_color='333333', profile_use_background_image=True, has_extended_profile=False, default_profile=False, default_profile_image=False, following=False, follow_request_sent=False, notifications=False, translator_type='none')"
      ]
     },
     "execution_count": 31,
     "metadata": {},
     "output_type": "execute_result"
    }
   ],
   "source": [
    "api.get_user(45966110)"
   ]
  },
  {
   "cell_type": "code",
   "execution_count": 36,
   "metadata": {},
   "outputs": [
    {
     "data": {
      "text/plain": [
       "User(_api=<tweepy.api.API object at 0x000002229EE3CBB0>, _json={'id': 45966110, 'id_str': '45966110', 'name': 'Gengar', 'screen_name': 'fiendskrah', 'location': 'California', 'description': 'Everything is either a bit or an op.', 'url': None, 'entities': {'description': {'urls': []}}, 'protected': False, 'followers_count': 134, 'friends_count': 384, 'listed_count': 2, 'created_at': 'Tue Jun 09 22:39:54 +0000 2009', 'favourites_count': 12208, 'utc_offset': None, 'time_zone': None, 'geo_enabled': True, 'verified': False, 'statuses_count': 11630, 'lang': None, 'status': {'created_at': 'Thu Oct 15 08:33:27 +0000 2020', 'id': 1316658434528309248, 'id_str': '1316658434528309248', 'text': 'RT @IDoTheThinking: This is why California cities are always on verge of bankruptcy.\\n\\nYou got homeowners in my neighborhood paying as low a…', 'truncated': False, 'entities': {'hashtags': [], 'symbols': [], 'user_mentions': [{'screen_name': 'IDoTheThinking', 'name': '𝔇𝔞𝔯𝔯𝔢𝔩𝔩 🍫 𝔒𝔴𝔢𝔫𝔰', 'id': 1579809553, 'id_str': '1579809553', 'indices': [3, 18]}], 'urls': []}, 'source': '<a href=\"http://twitter.com/download/android\" rel=\"nofollow\">Twitter for Android</a>', 'in_reply_to_status_id': None, 'in_reply_to_status_id_str': None, 'in_reply_to_user_id': None, 'in_reply_to_user_id_str': None, 'in_reply_to_screen_name': None, 'geo': None, 'coordinates': None, 'place': None, 'contributors': None, 'retweeted_status': {'created_at': 'Wed Oct 14 00:19:09 +0000 2020', 'id': 1316171650925092864, 'id_str': '1316171650925092864', 'text': 'This is why California cities are always on verge of bankruptcy.\\n\\nYou got homeowners in my neighborhood paying as l… https://t.co/ZMdeQEt1Rq', 'truncated': True, 'entities': {'hashtags': [], 'symbols': [], 'user_mentions': [], 'urls': [{'url': 'https://t.co/ZMdeQEt1Rq', 'expanded_url': 'https://twitter.com/i/web/status/1316171650925092864', 'display_url': 'twitter.com/i/web/status/1…', 'indices': [117, 140]}]}, 'source': '<a href=\"https://mobile.twitter.com\" rel=\"nofollow\">Twitter Web App</a>', 'in_reply_to_status_id': None, 'in_reply_to_status_id_str': None, 'in_reply_to_user_id': None, 'in_reply_to_user_id_str': None, 'in_reply_to_screen_name': None, 'geo': None, 'coordinates': None, 'place': None, 'contributors': None, 'is_quote_status': False, 'retweet_count': 170, 'favorite_count': 721, 'favorited': False, 'retweeted': False, 'possibly_sensitive': False, 'lang': 'en'}, 'is_quote_status': False, 'retweet_count': 170, 'favorite_count': 0, 'favorited': False, 'retweeted': False, 'lang': 'en'}, 'contributors_enabled': False, 'is_translator': False, 'is_translation_enabled': False, 'profile_background_color': '022330', 'profile_background_image_url': 'http://abs.twimg.com/images/themes/theme15/bg.png', 'profile_background_image_url_https': 'https://abs.twimg.com/images/themes/theme15/bg.png', 'profile_background_tile': False, 'profile_image_url': 'http://pbs.twimg.com/profile_images/1224798883286405120/Or1fqmpL_normal.jpg', 'profile_image_url_https': 'https://pbs.twimg.com/profile_images/1224798883286405120/Or1fqmpL_normal.jpg', 'profile_banner_url': 'https://pbs.twimg.com/profile_banners/45966110/1600833164', 'profile_link_color': '0084B4', 'profile_sidebar_border_color': 'A8C7F7', 'profile_sidebar_fill_color': 'C0DFEC', 'profile_text_color': '333333', 'profile_use_background_image': True, 'has_extended_profile': False, 'default_profile': False, 'default_profile_image': False, 'following': True, 'follow_request_sent': False, 'notifications': False, 'muting': False, 'translator_type': 'none'}, id=45966110, id_str='45966110', name='Gengar', screen_name='fiendskrah', location='California', description='Everything is either a bit or an op.', url=None, entities={'description': {'urls': []}}, protected=False, followers_count=134, friends_count=384, listed_count=2, created_at=datetime.datetime(2009, 6, 9, 22, 39, 54), favourites_count=12208, utc_offset=None, time_zone=None, geo_enabled=True, verified=False, statuses_count=11630, lang=None, status=Status(_api=<tweepy.api.API object at 0x000002229EE3CBB0>, _json={'created_at': 'Thu Oct 15 08:33:27 +0000 2020', 'id': 1316658434528309248, 'id_str': '1316658434528309248', 'text': 'RT @IDoTheThinking: This is why California cities are always on verge of bankruptcy.\\n\\nYou got homeowners in my neighborhood paying as low a…', 'truncated': False, 'entities': {'hashtags': [], 'symbols': [], 'user_mentions': [{'screen_name': 'IDoTheThinking', 'name': '𝔇𝔞𝔯𝔯𝔢𝔩𝔩 🍫 𝔒𝔴𝔢𝔫𝔰', 'id': 1579809553, 'id_str': '1579809553', 'indices': [3, 18]}], 'urls': []}, 'source': '<a href=\"http://twitter.com/download/android\" rel=\"nofollow\">Twitter for Android</a>', 'in_reply_to_status_id': None, 'in_reply_to_status_id_str': None, 'in_reply_to_user_id': None, 'in_reply_to_user_id_str': None, 'in_reply_to_screen_name': None, 'geo': None, 'coordinates': None, 'place': None, 'contributors': None, 'retweeted_status': {'created_at': 'Wed Oct 14 00:19:09 +0000 2020', 'id': 1316171650925092864, 'id_str': '1316171650925092864', 'text': 'This is why California cities are always on verge of bankruptcy.\\n\\nYou got homeowners in my neighborhood paying as l… https://t.co/ZMdeQEt1Rq', 'truncated': True, 'entities': {'hashtags': [], 'symbols': [], 'user_mentions': [], 'urls': [{'url': 'https://t.co/ZMdeQEt1Rq', 'expanded_url': 'https://twitter.com/i/web/status/1316171650925092864', 'display_url': 'twitter.com/i/web/status/1…', 'indices': [117, 140]}]}, 'source': '<a href=\"https://mobile.twitter.com\" rel=\"nofollow\">Twitter Web App</a>', 'in_reply_to_status_id': None, 'in_reply_to_status_id_str': None, 'in_reply_to_user_id': None, 'in_reply_to_user_id_str': None, 'in_reply_to_screen_name': None, 'geo': None, 'coordinates': None, 'place': None, 'contributors': None, 'is_quote_status': False, 'retweet_count': 170, 'favorite_count': 721, 'favorited': False, 'retweeted': False, 'possibly_sensitive': False, 'lang': 'en'}, 'is_quote_status': False, 'retweet_count': 170, 'favorite_count': 0, 'favorited': False, 'retweeted': False, 'lang': 'en'}, created_at=datetime.datetime(2020, 10, 15, 8, 33, 27), id=1316658434528309248, id_str='1316658434528309248', text='RT @IDoTheThinking: This is why California cities are always on verge of bankruptcy.\\n\\nYou got homeowners in my neighborhood paying as low a…', truncated=False, entities={'hashtags': [], 'symbols': [], 'user_mentions': [{'screen_name': 'IDoTheThinking', 'name': '𝔇𝔞𝔯𝔯𝔢𝔩𝔩 🍫 𝔒𝔴𝔢𝔫𝔰', 'id': 1579809553, 'id_str': '1579809553', 'indices': [3, 18]}], 'urls': []}, source='Twitter for Android', source_url='http://twitter.com/download/android', in_reply_to_status_id=None, in_reply_to_status_id_str=None, in_reply_to_user_id=None, in_reply_to_user_id_str=None, in_reply_to_screen_name=None, geo=None, coordinates=None, place=None, contributors=None, retweeted_status=Status(_api=<tweepy.api.API object at 0x000002229EE3CBB0>, _json={'created_at': 'Wed Oct 14 00:19:09 +0000 2020', 'id': 1316171650925092864, 'id_str': '1316171650925092864', 'text': 'This is why California cities are always on verge of bankruptcy.\\n\\nYou got homeowners in my neighborhood paying as l… https://t.co/ZMdeQEt1Rq', 'truncated': True, 'entities': {'hashtags': [], 'symbols': [], 'user_mentions': [], 'urls': [{'url': 'https://t.co/ZMdeQEt1Rq', 'expanded_url': 'https://twitter.com/i/web/status/1316171650925092864', 'display_url': 'twitter.com/i/web/status/1…', 'indices': [117, 140]}]}, 'source': '<a href=\"https://mobile.twitter.com\" rel=\"nofollow\">Twitter Web App</a>', 'in_reply_to_status_id': None, 'in_reply_to_status_id_str': None, 'in_reply_to_user_id': None, 'in_reply_to_user_id_str': None, 'in_reply_to_screen_name': None, 'geo': None, 'coordinates': None, 'place': None, 'contributors': None, 'is_quote_status': False, 'retweet_count': 170, 'favorite_count': 721, 'favorited': False, 'retweeted': False, 'possibly_sensitive': False, 'lang': 'en'}, created_at=datetime.datetime(2020, 10, 14, 0, 19, 9), id=1316171650925092864, id_str='1316171650925092864', text='This is why California cities are always on verge of bankruptcy.\\n\\nYou got homeowners in my neighborhood paying as l… https://t.co/ZMdeQEt1Rq', truncated=True, entities={'hashtags': [], 'symbols': [], 'user_mentions': [], 'urls': [{'url': 'https://t.co/ZMdeQEt1Rq', 'expanded_url': 'https://twitter.com/i/web/status/1316171650925092864', 'display_url': 'twitter.com/i/web/status/1…', 'indices': [117, 140]}]}, source='Twitter Web App', source_url='https://mobile.twitter.com', in_reply_to_status_id=None, in_reply_to_status_id_str=None, in_reply_to_user_id=None, in_reply_to_user_id_str=None, in_reply_to_screen_name=None, geo=None, coordinates=None, place=None, contributors=None, is_quote_status=False, retweet_count=170, favorite_count=721, favorited=False, retweeted=False, possibly_sensitive=False, lang='en'), is_quote_status=False, retweet_count=170, favorite_count=0, favorited=False, retweeted=False, lang='en'), contributors_enabled=False, is_translator=False, is_translation_enabled=False, profile_background_color='022330', profile_background_image_url='http://abs.twimg.com/images/themes/theme15/bg.png', profile_background_image_url_https='https://abs.twimg.com/images/themes/theme15/bg.png', profile_background_tile=False, profile_image_url='http://pbs.twimg.com/profile_images/1224798883286405120/Or1fqmpL_normal.jpg', profile_image_url_https='https://pbs.twimg.com/profile_images/1224798883286405120/Or1fqmpL_normal.jpg', profile_banner_url='https://pbs.twimg.com/profile_banners/45966110/1600833164', profile_link_color='0084B4', profile_sidebar_border_color='A8C7F7', profile_sidebar_fill_color='C0DFEC', profile_text_color='333333', profile_use_background_image=True, has_extended_profile=False, default_profile=False, default_profile_image=False, following=True, follow_request_sent=False, notifications=False, muting=False, translator_type='none')"
      ]
     },
     "execution_count": 36,
     "metadata": {},
     "output_type": "execute_result"
    }
   ],
   "source": [
    "api.create_friendship(45966110)\n",
    "# this looks like it calls the profile as well as some portion of recent tweets?"
   ]
  },
  {
   "cell_type": "code",
   "execution_count": 33,
   "metadata": {},
   "outputs": [
    {
     "data": {
      "text/plain": [
       "User(_api=<tweepy.api.API object at 0x000002229EE3CBB0>, _json={'id': 45966110, 'id_str': '45966110', 'name': 'Gengar', 'screen_name': 'fiendskrah', 'location': 'California', 'description': 'Everything is either a bit or an op.', 'url': None, 'entities': {'description': {'urls': []}}, 'protected': False, 'followers_count': 133, 'friends_count': 384, 'listed_count': 2, 'created_at': 'Tue Jun 09 22:39:54 +0000 2009', 'favourites_count': 12208, 'utc_offset': None, 'time_zone': None, 'geo_enabled': True, 'verified': False, 'statuses_count': 11630, 'lang': None, 'status': {'created_at': 'Thu Oct 15 08:33:27 +0000 2020', 'id': 1316658434528309248, 'id_str': '1316658434528309248', 'text': 'RT @IDoTheThinking: This is why California cities are always on verge of bankruptcy.\\n\\nYou got homeowners in my neighborhood paying as low a…', 'truncated': False, 'entities': {'hashtags': [], 'symbols': [], 'user_mentions': [{'screen_name': 'IDoTheThinking', 'name': '𝔇𝔞𝔯𝔯𝔢𝔩𝔩 🍫 𝔒𝔴𝔢𝔫𝔰', 'id': 1579809553, 'id_str': '1579809553', 'indices': [3, 18]}], 'urls': []}, 'source': '<a href=\"http://twitter.com/download/android\" rel=\"nofollow\">Twitter for Android</a>', 'in_reply_to_status_id': None, 'in_reply_to_status_id_str': None, 'in_reply_to_user_id': None, 'in_reply_to_user_id_str': None, 'in_reply_to_screen_name': None, 'geo': None, 'coordinates': None, 'place': None, 'contributors': None, 'retweeted_status': {'created_at': 'Wed Oct 14 00:19:09 +0000 2020', 'id': 1316171650925092864, 'id_str': '1316171650925092864', 'text': 'This is why California cities are always on verge of bankruptcy.\\n\\nYou got homeowners in my neighborhood paying as l… https://t.co/ZMdeQEt1Rq', 'truncated': True, 'entities': {'hashtags': [], 'symbols': [], 'user_mentions': [], 'urls': [{'url': 'https://t.co/ZMdeQEt1Rq', 'expanded_url': 'https://twitter.com/i/web/status/1316171650925092864', 'display_url': 'twitter.com/i/web/status/1…', 'indices': [117, 140]}]}, 'source': '<a href=\"https://mobile.twitter.com\" rel=\"nofollow\">Twitter Web App</a>', 'in_reply_to_status_id': None, 'in_reply_to_status_id_str': None, 'in_reply_to_user_id': None, 'in_reply_to_user_id_str': None, 'in_reply_to_screen_name': None, 'geo': None, 'coordinates': None, 'place': None, 'contributors': None, 'is_quote_status': False, 'retweet_count': 170, 'favorite_count': 721, 'favorited': False, 'retweeted': False, 'possibly_sensitive': False, 'lang': 'en'}, 'is_quote_status': False, 'retweet_count': 170, 'favorite_count': 0, 'favorited': False, 'retweeted': False, 'lang': 'en'}, 'contributors_enabled': False, 'is_translator': False, 'is_translation_enabled': False, 'profile_background_color': '022330', 'profile_background_image_url': 'http://abs.twimg.com/images/themes/theme15/bg.png', 'profile_background_image_url_https': 'https://abs.twimg.com/images/themes/theme15/bg.png', 'profile_background_tile': False, 'profile_image_url': 'http://pbs.twimg.com/profile_images/1224798883286405120/Or1fqmpL_normal.jpg', 'profile_image_url_https': 'https://pbs.twimg.com/profile_images/1224798883286405120/Or1fqmpL_normal.jpg', 'profile_banner_url': 'https://pbs.twimg.com/profile_banners/45966110/1600833164', 'profile_link_color': '0084B4', 'profile_sidebar_border_color': 'A8C7F7', 'profile_sidebar_fill_color': 'C0DFEC', 'profile_text_color': '333333', 'profile_use_background_image': True, 'has_extended_profile': False, 'default_profile': False, 'default_profile_image': False, 'following': False, 'follow_request_sent': False, 'notifications': False, 'muting': False, 'translator_type': 'none'}, id=45966110, id_str='45966110', name='Gengar', screen_name='fiendskrah', location='California', description='Everything is either a bit or an op.', url=None, entities={'description': {'urls': []}}, protected=False, followers_count=133, friends_count=384, listed_count=2, created_at=datetime.datetime(2009, 6, 9, 22, 39, 54), favourites_count=12208, utc_offset=None, time_zone=None, geo_enabled=True, verified=False, statuses_count=11630, lang=None, status=Status(_api=<tweepy.api.API object at 0x000002229EE3CBB0>, _json={'created_at': 'Thu Oct 15 08:33:27 +0000 2020', 'id': 1316658434528309248, 'id_str': '1316658434528309248', 'text': 'RT @IDoTheThinking: This is why California cities are always on verge of bankruptcy.\\n\\nYou got homeowners in my neighborhood paying as low a…', 'truncated': False, 'entities': {'hashtags': [], 'symbols': [], 'user_mentions': [{'screen_name': 'IDoTheThinking', 'name': '𝔇𝔞𝔯𝔯𝔢𝔩𝔩 🍫 𝔒𝔴𝔢𝔫𝔰', 'id': 1579809553, 'id_str': '1579809553', 'indices': [3, 18]}], 'urls': []}, 'source': '<a href=\"http://twitter.com/download/android\" rel=\"nofollow\">Twitter for Android</a>', 'in_reply_to_status_id': None, 'in_reply_to_status_id_str': None, 'in_reply_to_user_id': None, 'in_reply_to_user_id_str': None, 'in_reply_to_screen_name': None, 'geo': None, 'coordinates': None, 'place': None, 'contributors': None, 'retweeted_status': {'created_at': 'Wed Oct 14 00:19:09 +0000 2020', 'id': 1316171650925092864, 'id_str': '1316171650925092864', 'text': 'This is why California cities are always on verge of bankruptcy.\\n\\nYou got homeowners in my neighborhood paying as l… https://t.co/ZMdeQEt1Rq', 'truncated': True, 'entities': {'hashtags': [], 'symbols': [], 'user_mentions': [], 'urls': [{'url': 'https://t.co/ZMdeQEt1Rq', 'expanded_url': 'https://twitter.com/i/web/status/1316171650925092864', 'display_url': 'twitter.com/i/web/status/1…', 'indices': [117, 140]}]}, 'source': '<a href=\"https://mobile.twitter.com\" rel=\"nofollow\">Twitter Web App</a>', 'in_reply_to_status_id': None, 'in_reply_to_status_id_str': None, 'in_reply_to_user_id': None, 'in_reply_to_user_id_str': None, 'in_reply_to_screen_name': None, 'geo': None, 'coordinates': None, 'place': None, 'contributors': None, 'is_quote_status': False, 'retweet_count': 170, 'favorite_count': 721, 'favorited': False, 'retweeted': False, 'possibly_sensitive': False, 'lang': 'en'}, 'is_quote_status': False, 'retweet_count': 170, 'favorite_count': 0, 'favorited': False, 'retweeted': False, 'lang': 'en'}, created_at=datetime.datetime(2020, 10, 15, 8, 33, 27), id=1316658434528309248, id_str='1316658434528309248', text='RT @IDoTheThinking: This is why California cities are always on verge of bankruptcy.\\n\\nYou got homeowners in my neighborhood paying as low a…', truncated=False, entities={'hashtags': [], 'symbols': [], 'user_mentions': [{'screen_name': 'IDoTheThinking', 'name': '𝔇𝔞𝔯𝔯𝔢𝔩𝔩 🍫 𝔒𝔴𝔢𝔫𝔰', 'id': 1579809553, 'id_str': '1579809553', 'indices': [3, 18]}], 'urls': []}, source='Twitter for Android', source_url='http://twitter.com/download/android', in_reply_to_status_id=None, in_reply_to_status_id_str=None, in_reply_to_user_id=None, in_reply_to_user_id_str=None, in_reply_to_screen_name=None, geo=None, coordinates=None, place=None, contributors=None, retweeted_status=Status(_api=<tweepy.api.API object at 0x000002229EE3CBB0>, _json={'created_at': 'Wed Oct 14 00:19:09 +0000 2020', 'id': 1316171650925092864, 'id_str': '1316171650925092864', 'text': 'This is why California cities are always on verge of bankruptcy.\\n\\nYou got homeowners in my neighborhood paying as l… https://t.co/ZMdeQEt1Rq', 'truncated': True, 'entities': {'hashtags': [], 'symbols': [], 'user_mentions': [], 'urls': [{'url': 'https://t.co/ZMdeQEt1Rq', 'expanded_url': 'https://twitter.com/i/web/status/1316171650925092864', 'display_url': 'twitter.com/i/web/status/1…', 'indices': [117, 140]}]}, 'source': '<a href=\"https://mobile.twitter.com\" rel=\"nofollow\">Twitter Web App</a>', 'in_reply_to_status_id': None, 'in_reply_to_status_id_str': None, 'in_reply_to_user_id': None, 'in_reply_to_user_id_str': None, 'in_reply_to_screen_name': None, 'geo': None, 'coordinates': None, 'place': None, 'contributors': None, 'is_quote_status': False, 'retweet_count': 170, 'favorite_count': 721, 'favorited': False, 'retweeted': False, 'possibly_sensitive': False, 'lang': 'en'}, created_at=datetime.datetime(2020, 10, 14, 0, 19, 9), id=1316171650925092864, id_str='1316171650925092864', text='This is why California cities are always on verge of bankruptcy.\\n\\nYou got homeowners in my neighborhood paying as l… https://t.co/ZMdeQEt1Rq', truncated=True, entities={'hashtags': [], 'symbols': [], 'user_mentions': [], 'urls': [{'url': 'https://t.co/ZMdeQEt1Rq', 'expanded_url': 'https://twitter.com/i/web/status/1316171650925092864', 'display_url': 'twitter.com/i/web/status/1…', 'indices': [117, 140]}]}, source='Twitter Web App', source_url='https://mobile.twitter.com', in_reply_to_status_id=None, in_reply_to_status_id_str=None, in_reply_to_user_id=None, in_reply_to_user_id_str=None, in_reply_to_screen_name=None, geo=None, coordinates=None, place=None, contributors=None, is_quote_status=False, retweet_count=170, favorite_count=721, favorited=False, retweeted=False, possibly_sensitive=False, lang='en'), is_quote_status=False, retweet_count=170, favorite_count=0, favorited=False, retweeted=False, lang='en'), contributors_enabled=False, is_translator=False, is_translation_enabled=False, profile_background_color='022330', profile_background_image_url='http://abs.twimg.com/images/themes/theme15/bg.png', profile_background_image_url_https='https://abs.twimg.com/images/themes/theme15/bg.png', profile_background_tile=False, profile_image_url='http://pbs.twimg.com/profile_images/1224798883286405120/Or1fqmpL_normal.jpg', profile_image_url_https='https://pbs.twimg.com/profile_images/1224798883286405120/Or1fqmpL_normal.jpg', profile_banner_url='https://pbs.twimg.com/profile_banners/45966110/1600833164', profile_link_color='0084B4', profile_sidebar_border_color='A8C7F7', profile_sidebar_fill_color='C0DFEC', profile_text_color='333333', profile_use_background_image=True, has_extended_profile=False, default_profile=False, default_profile_image=False, following=False, follow_request_sent=False, notifications=False, muting=False, translator_type='none')"
      ]
     },
     "execution_count": 33,
     "metadata": {},
     "output_type": "execute_result"
    }
   ],
   "source": [
    "api.destroy_friendship(45966110)"
   ]
  },
  {
   "cell_type": "code",
   "execution_count": 41,
   "metadata": {},
   "outputs": [
    {
     "data": {
      "text/plain": [
       "[]"
      ]
     },
     "execution_count": 41,
     "metadata": {},
     "output_type": "execute_result"
    }
   ],
   "source": [
    "api.lookup_friendships('fiendskrah')"
   ]
  },
  {
   "cell_type": "code",
   "execution_count": null,
   "metadata": {},
   "outputs": [],
   "source": []
  }
 ],
 "metadata": {
  "kernelspec": {
   "display_name": "Python 3",
   "language": "python",
   "name": "python3"
  },
  "language_info": {
   "codemirror_mode": {
    "name": "ipython",
    "version": 3
   },
   "file_extension": ".py",
   "mimetype": "text/x-python",
   "name": "python",
   "nbconvert_exporter": "python",
   "pygments_lexer": "ipython3",
   "version": "3.9.0"
  }
 },
 "nbformat": 4,
 "nbformat_minor": 4
}
